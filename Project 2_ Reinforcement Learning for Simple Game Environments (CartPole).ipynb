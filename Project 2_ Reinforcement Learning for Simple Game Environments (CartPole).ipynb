{
 "cells": [
  {
   "cell_type": "markdown",
   "metadata": {
    "id": "5oW0V85M8rAg"
   },
   "source": [
    "# Reinforcement Learning for CartPole\n",
    "This project demonstrates how an AI can learn to balance a pole on a cart using reinforcement learning (RL). We'll use the CartPole environment from Gymnasium and the A2C algorithm from stable-baselines3.\n",
    "\n",
    "## What is Reinforcement Learning?\n",
    "RL is a type of machine learning where an agent learns to make decisions by interacting with an environment, aiming to maximize a reward.\n",
    "\n",
    "## What is CartPole?\n",
    "CartPole is a classic control problem where a pole is attached to a cart. The goal is to move the cart left or right to keep the pole balanced."
   ]
  },
  {
   "cell_type": "markdown",
   "metadata": {
    "id": "StPv9_mlEMfP"
   },
   "source": [
    "# Step 1: Importing Libraries\n",
    "# This block imports all the necessary tools we need. Gymnasium provides the CartPole environment, Stable-Baselines3 gives us the PPO algorithm, Matplotlib helps us create real-time visualizations, and imageio lets us save the training as a video."
   ]
  },
  {
   "cell_type": "code",
   "execution_count": null,
   "metadata": {
    "colab": {
     "base_uri": "https://localhost:8080/"
    },
    "executionInfo": {
     "elapsed": 5319,
     "status": "ok",
     "timestamp": 1752566525220,
     "user": {
      "displayName": "9808_MyronCorreia",
      "userId": "04522062780164785947"
     },
     "user_tz": -330
    },
    "id": "sUGSE5X5GsnR",
    "outputId": "257bc19d-31e2-47d8-c491-11b22af6361e"
   },
   "outputs": [],
   "source": [
    "!pip install gymnasium stable-baselines3 matplotlib imageio numpy"
   ]
  },
  {
   "cell_type": "code",
   "execution_count": 33,
   "metadata": {
    "executionInfo": {
     "elapsed": 8,
     "status": "ok",
     "timestamp": 1752566528047,
     "user": {
      "displayName": "9808_MyronCorreia",
      "userId": "04522062780164785947"
     },
     "user_tz": -330
    },
    "id": "T4kSebcx8Ur2"
   },
   "outputs": [],
   "source": [
    "import gymnasium as gym\n",
    "import numpy as np\n",
    "import matplotlib.pyplot as plt\n",
    "from matplotlib.patches import Rectangle, Circle\n",
    "import imageio\n",
    "from stable_baselines3 import PPO\n",
    "from stable_baselines3.common.callbacks import BaseCallback, EvalCallback\n",
    "from IPython.display import display, clear_output"
   ]
  },
  {
   "cell_type": "markdown",
   "metadata": {
    "id": "hR7DzFidETm4"
   },
   "source": [
    "# Step 2: Setting Up the Environment\n",
    "# Here, we create the CartPole environment. The 'rgb_array' render mode allows us to capture each frame as an image, which we’ll use for both visualization and video creation."
   ]
  },
  {
   "cell_type": "code",
   "execution_count": 34,
   "metadata": {
    "colab": {
     "base_uri": "https://localhost:8080/"
    },
    "executionInfo": {
     "elapsed": 4,
     "status": "ok",
     "timestamp": 1752566537444,
     "user": {
      "displayName": "9808_MyronCorreia",
      "userId": "04522062780164785947"
     },
     "user_tz": -330
    },
    "id": "C243cT629IFI",
    "outputId": "8503c269-b947-492d-c951-d66cc606f37b"
   },
   "outputs": [
    {
     "name": "stdout",
     "output_type": "stream",
     "text": [
      "Observation space: Box([-4.8               -inf -0.41887903        -inf], [4.8               inf 0.41887903        inf], (4,), float32)\n",
      "Action space: Discrete(2)\n"
     ]
    }
   ],
   "source": [
    "# Create the training environment with rendering for animations\n",
    "env = gym.make('CartPole-v1', render_mode='rgb_array')\n",
    "\n",
    "# Show what the AI observes (cart position, velocity, pole angle, angular velocity)\n",
    "# and what actions it can take (move left or right)\n",
    "print(\"Observation space:\", env.observation_space)\n",
    "print(\"Action space:\", env.action_space)"
   ]
  },
  {
   "cell_type": "markdown",
   "metadata": {
    "id": "AGCNbTmhEZ0Y"
   },
   "source": [
    "# Step 3: Initializing the PPO Model\n",
    "# This block sets up the Proximal Policy Optimization (PPO) model, a reinforcement learning algorithm that’s great for this task. We use a simple multilayer perceptron (MLP) policy and connect it to our environment."
   ]
  },
  {
   "cell_type": "code",
   "execution_count": 35,
   "metadata": {
    "colab": {
     "base_uri": "https://localhost:8080/"
    },
    "executionInfo": {
     "elapsed": 20,
     "status": "ok",
     "timestamp": 1752566548846,
     "user": {
      "displayName": "9808_MyronCorreia",
      "userId": "04522062780164785947"
     },
     "user_tz": -330
    },
    "id": "5GCkkoyA9KGW",
    "outputId": "00aaefe3-9426-4309-ffad-da4a693143a2"
   },
   "outputs": [
    {
     "name": "stdout",
     "output_type": "stream",
     "text": [
      "Using cuda device\n",
      "Wrapping the env with a `Monitor` wrapper\n",
      "Wrapping the env in a DummyVecEnv.\n"
     ]
    }
   ],
   "source": [
    "# Create the PPO model with a neural network policy\n",
    "model = PPO('MlpPolicy', env, verbose=1)\n",
    "# verbose=1 shows training progress (like rewards) in the notebook"
   ]
  },
  {
   "cell_type": "markdown",
   "metadata": {
    "id": "5M-i81xCEYzE"
   },
   "source": [
    "# Step 4: Creating a Custom Visualization Callback\n",
    "# This is where the magic happens! We define a custom callback class that runs during training. It captures each frame, updates a detailed plot with the cart and pole, and displays state information like the pole angle and cart position in real-time."
   ]
  },
  {
   "cell_type": "code",
   "execution_count": 36,
   "metadata": {
    "executionInfo": {
     "elapsed": 59,
     "status": "ok",
     "timestamp": 1752566561846,
     "user": {
      "displayName": "9808_MyronCorreia",
      "userId": "04522062780164785947"
     },
     "user_tz": -330
    },
    "id": "ix0ydr1R9Qz5"
   },
   "outputs": [],
   "source": [
    "class VisualCallback(BaseCallback):\n",
    "    def __init__(self, render_freq=50, verbose=0):\n",
    "        super(VisualCallback, self).__init__(verbose)\n",
    "        self.render_freq = render_freq  # Update visualization every 50 steps\n",
    "        self.frames = []  # Store all frames for video\n",
    "        self.fig, self.ax = plt.subplots(figsize=(12, 7))  # Large figure for clarity\n",
    "        self.step_count = 0\n",
    "        self.episode_reward = 0  # Track reward for current episode\n",
    "\n",
    "    def _on_step(self) -> bool:\n",
    "        self.step_count += 1\n",
    "        # Get the current state (cart position, velocity, pole angle, angular velocity)\n",
    "        state = self.locals['obs_tensor'][0].cpu().numpy()\n",
    "        cart_pos = state[0]\n",
    "        pole_angle = state[2]  # In radians\n",
    "        reward = self.locals['rewards'][0]\n",
    "        self.episode_reward += reward\n",
    "\n",
    "        # Update visualization every render_freq steps\n",
    "        if self.step_count % self.render_freq == 0:\n",
    "            # Capture the current frame\n",
    "            frame = self.training_env.render()\n",
    "            if frame is not None:\n",
    "                self.frames.append(frame)\n",
    "            self.update_visualization(cart_pos, pole_angle, self.episode_reward)\n",
    "\n",
    "        # Reset episode reward when episode ends\n",
    "        if self.locals['dones'][0]:\n",
    "            self.episode_reward = 0\n",
    "\n",
    "        return True\n",
    "\n",
    "    def update_visualization(self, cart_pos, pole_angle, episode_reward):\n",
    "        self.ax.clear()\n",
    "\n",
    "        # Draw the ground (a thick black line)\n",
    "        self.ax.plot([-2.4, 2.4], [0, 0], 'k-', lw=3, label=\"Ground\")\n",
    "\n",
    "        # Draw the cart (a blue rectangle with wheels for realism)\n",
    "        cart_width, cart_height = 0.6, 0.25\n",
    "        cart_x = cart_pos - cart_width / 2\n",
    "        cart = Rectangle((cart_x, 0), cart_width, cart_height, color='blue', ec='black', lw=2)\n",
    "        self.ax.add_patch(cart)\n",
    "\n",
    "        # Add wheels to the cart\n",
    "        wheel_radius = 0.06\n",
    "        wheel1 = Circle((cart_x + cart_width * 0.25, -wheel_radius), wheel_radius, color='black', ec='gray')\n",
    "        wheel2 = Circle((cart_x + cart_width * 0.75, -wheel_radius), wheel_radius, color='black', ec='gray')\n",
    "        self.ax.add_patch(wheel1)\n",
    "        self.ax.add_patch(wheel2)\n",
    "\n",
    "        # Draw the pole (a thick red line with a yellow tip for visibility)\n",
    "        pole_length = 1.0\n",
    "        pole_x_start = cart_pos\n",
    "        pole_y_start = cart_height\n",
    "        pole_x_end = pole_x_start + pole_length * np.sin(pole_angle)\n",
    "        pole_y_end = pole_y_start + pole_length * np.cos(pole_angle)\n",
    "        pole = plt.Line2D([pole_x_start, pole_x_end], [pole_y_start, pole_y_end],\n",
    "                         color='red', lw=6, label=\"Pole\")\n",
    "        self.ax.add_line(pole)\n",
    "        # Add a yellow tip to the pole\n",
    "        pole_tip = Circle((pole_x_end, pole_y_end), 0.05, color='yellow')\n",
    "        self.ax.add_patch(pole_tip)\n",
    "\n",
    "        # Add state information as text\n",
    "        info_text = (f\"Step: {self.step_count}\\n\"\n",
    "                    f\"Cart Position: {cart_pos:.2f}\\n\"\n",
    "                    f\"Pole Angle: {np.degrees(pole_angle):.2f}°\\n\"\n",
    "                    f\"Episode Reward: {episode_reward:.1f}\")\n",
    "        self.ax.text(0.05, 0.95, info_text, transform=self.ax.transAxes, fontsize=12,\n",
    "                    verticalalignment='top', bbox=dict(facecolor='white', alpha=0.9, edgecolor='black'))\n",
    "\n",
    "        # Set plot limits and labels\n",
    "        self.ax.set_xlim(-2.4, 2.4)\n",
    "        self.ax.set_ylim(-0.5, 1.5)\n",
    "        self.ax.set_xlabel(\"Cart Position (m)\", fontsize=12)\n",
    "        self.ax.set_ylabel(\"Height (m)\", fontsize=12)\n",
    "        self.ax.set_title(\"CartPole Training: Learning to Balance\", fontsize=14)\n",
    "        self.ax.grid(True, linestyle='--', alpha=0.7)\n",
    "        self.ax.legend(loc='upper right')\n",
    "\n",
    "        # Show the updated plot\n",
    "        display(self.fig)\n",
    "        clear_output(wait=True)\n",
    "\n",
    "    def _on_training_end(self):\n",
    "        # Save frames as an MP4 video\n",
    "        if self.frames:\n",
    "            imageio.mimsave('cartpole_training.mp4', self.frames, fps=60)\n",
    "            print(\"Training video saved as 'cartpole_training.mp4'\")\n",
    "        plt.close(self.fig)"
   ]
  },
  {
   "cell_type": "markdown",
   "metadata": {
    "id": "9641Q12aEmJ6"
   },
   "source": [
    "# Step 5: Training the Model with Visualization\n",
    "# This block starts the training process. The custom callback we defined will handle the visualization and frame capture during the 10,000 timesteps."
   ]
  },
  {
   "cell_type": "code",
   "execution_count": 37,
   "metadata": {
    "colab": {
     "base_uri": "https://localhost:8080/",
     "height": 812
    },
    "executionInfo": {
     "elapsed": 80749,
     "status": "ok",
     "timestamp": 1752566654564,
     "user": {
      "displayName": "9808_MyronCorreia",
      "userId": "04522062780164785947"
     },
     "user_tz": -330
    },
    "id": "NARks6Dc9hGV",
    "outputId": "688aebcd-9594-48a0-9acd-90fa6c1ccdc4"
   },
   "outputs": [
    {
     "name": "stdout",
     "output_type": "stream",
     "text": [
      "---------------------------------\n",
      "| rollout/           |          |\n",
      "|    ep_len_mean     | 67.2     |\n",
      "|    ep_rew_mean     | 67.2     |\n",
      "| time/              |          |\n",
      "|    fps             | 131      |\n",
      "|    iterations      | 5        |\n",
      "|    time_elapsed    | 77       |\n",
      "|    total_timesteps | 10240    |\n",
      "---------------------------------\n"
     ]
    },
    {
     "name": "stderr",
     "output_type": "stream",
     "text": [
      "WARNING:imageio_ffmpeg:IMAGEIO FFMPEG_WRITER WARNING: input image is not divisible by macro_block_size=16, resizing from (600, 400) to (608, 400) to ensure video compatibility with most codecs and players. To prevent resizing, make your input image divisible by the macro_block_size or set the macro_block_size to 1 (risking incompatibility).\n"
     ]
    },
    {
     "name": "stdout",
     "output_type": "stream",
     "text": [
      "Training video saved as 'cartpole_training.mp4'\n"
     ]
    }
   ],
   "source": [
    "# Create a callback for visualization\n",
    "visual_callback = VisualCallback(render_freq=50)\n",
    "\n",
    "# Create a separate environment for evaluation\n",
    "eval_env = gym.make('CartPole-v1', render_mode='rgb_array')\n",
    "\n",
    "# Set up evaluation callback to track performance\n",
    "eval_callback = EvalCallback(eval_env, best_model_save_path='./logs/',\n",
    "                            log_path='./logs/', eval_freq=1000,\n",
    "                            deterministic=True, render=False)\n",
    "\n",
    "# Train the model\n",
    "model.learn(total_timesteps=10000, callback=[eval_callback, visual_callback])\n",
    "\n",
    "# Close the evaluation environment\n",
    "eval_env.close()"
   ]
  },
  {
   "cell_type": "markdown",
   "metadata": {
    "id": "WwxCLqulEsaN"
   },
   "source": [
    "# Step 6: Saving the Trained Model\n",
    "# After training, we save the model to a file called 'ppo_cartpole.zip'. You can load this later to test or reuse the trained agent."
   ]
  },
  {
   "cell_type": "code",
   "execution_count": 38,
   "metadata": {
    "colab": {
     "base_uri": "https://localhost:8080/",
     "height": 569
    },
    "executionInfo": {
     "elapsed": 441,
     "status": "ok",
     "timestamp": 1752566655010,
     "user": {
      "displayName": "9808_MyronCorreia",
      "userId": "04522062780164785947"
     },
     "user_tz": -330
    },
    "id": "lBaDlVGa9jUQ",
    "outputId": "2239edbd-90bb-451c-f56a-b28cdb97f5e9"
   },
   "outputs": [
    {
     "data": {
      "image/png": "[encoded data removed]",
      "text/plain": [
       "<Figure size 1000x600 with 1 Axes>"
      ]
     },
     "metadata": {},
     "output_type": "display_data"
    }
   ],
   "source": [
    "import numpy as np\n",
    "import matplotlib.pyplot as plt\n",
    "\n",
    "# Load evaluation results\n",
    "results = np.load('./logs/evaluations.npz')\n",
    "timesteps = results['timesteps'][:len(results['results'])]\n",
    "mean_rewards = results['results'].mean(axis=1)\n",
    "\n",
    "# Plot\n",
    "plt.figure(figsize=(10, 6))\n",
    "plt.plot(timesteps, mean_rewards, 'b-', lw=2, label='Mean Reward')\n",
    "plt.xlabel(\"Timesteps\", fontsize=12)\n",
    "plt.ylabel(\"Mean Reward\", fontsize=12)\n",
    "plt.title(\"Training Progress: Reward Over Time\", fontsize=14)\n",
    "plt.grid(True, linestyle='--', alpha=0.7)\n",
    "plt.legend()\n",
    "plt.show()"
   ]
  },
  {
   "cell_type": "code",
   "execution_count": 39,
   "metadata": {
    "colab": {
     "base_uri": "https://localhost:8080/"
    },
    "executionInfo": {
     "elapsed": 16,
     "status": "ok",
     "timestamp": 1752566657302,
     "user": {
      "displayName": "9808_MyronCorreia",
      "userId": "04522062780164785947"
     },
     "user_tz": -330
    },
    "id": "Fbj-PtYLHKMP",
    "outputId": "85f7768d-c5cb-4386-ab8a-7fabd14476cf"
   },
   "outputs": [
    {
     "name": "stdout",
     "output_type": "stream",
     "text": [
      "Model saved as 'ppo_cartpole.zip'\n"
     ]
    }
   ],
   "source": [
    "# Save the trained model\n",
    "model.save('ppo_cartpole')\n",
    "print(\"Model saved as 'ppo_cartpole.zip'\")"
   ]
  },
  {
   "cell_type": "markdown",
   "metadata": {
    "id": "wDeZcZZHExk8"
   },
   "source": [
    "# Step 7: Testing the Trained Model\n",
    "# This block loads the saved model and runs it in the environment to test how well it balances the pole. You can watch the result in real-time."
   ]
  },
  {
   "cell_type": "code",
   "execution_count": 40,
   "metadata": {
    "colab": {
     "base_uri": "https://localhost:8080/",
     "height": 646
    },
    "executionInfo": {
     "elapsed": 65730,
     "status": "ok",
     "timestamp": 1752566736245,
     "user": {
      "displayName": "9808_MyronCorreia",
      "userId": "04522062780164785947"
     },
     "user_tz": -330
    },
    "id": "pdJ6W3uaEz4g",
    "outputId": "5b00f3c9-b77e-4e8b-f113-6c28a16ad717"
   },
   "outputs": [
    {
     "name": "stderr",
     "output_type": "stream",
     "text": [
      "WARNING:imageio_ffmpeg:IMAGEIO FFMPEG_WRITER WARNING: input image is not divisible by macro_block_size=16, resizing from (600, 400) to (608, 400) to ensure video compatibility with most codecs and players. To prevent resizing, make your input image divisible by the macro_block_size or set the macro_block_size to 1 (risking incompatibility).\n"
     ]
    },
    {
     "name": "stdout",
     "output_type": "stream",
     "text": [
      "Test video saved as 'cartpole_test.mp4'\n"
     ]
    }
   ],
   "source": [
    "# Create a new environment for testing\n",
    "env = gym.make('CartPole-v1', render_mode='rgb_array')\n",
    "\n",
    "# Load the saved model\n",
    "model = PPO.load('ppo_cartpole')\n",
    "\n",
    "# Reset the environment\n",
    "reset_result = env.reset()\n",
    "obs = reset_result[0] if isinstance(reset_result, tuple) else reset_result\n",
    "frames = []\n",
    "episode_reward = 0\n",
    "\n",
    "# Run for 500 steps\n",
    "fig, ax = plt.subplots(figsize=(12, 7))\n",
    "for _ in range(500):\n",
    "    action, _states = model.predict(obs, deterministic=True)\n",
    "    step_result = env.step(action)\n",
    "    obs = step_result[0]\n",
    "    reward, terminated, truncated, info = step_result[1:]\n",
    "    episode_reward += reward\n",
    "    frame = env.render()\n",
    "    if frame is not None:\n",
    "        frames.append(frame)\n",
    "\n",
    "    # Update visualization\n",
    "    cart_pos = obs[0]\n",
    "    pole_angle = obs[2]\n",
    "\n",
    "    ax.clear()\n",
    "    ax.plot([-2.4, 2.4], [0, 0], 'k-', lw=3, label=\"Ground\")\n",
    "    cart_width, cart_height = 0.6, 0.25\n",
    "    cart_x = cart_pos - cart_width / 2\n",
    "    cart = Rectangle((cart_x, 0), cart_width, cart_height, color='blue', ec='black', lw=2)\n",
    "    ax.add_patch(cart)\n",
    "    wheel_radius = 0.06\n",
    "    wheel1 = Circle((cart_x + cart_width * 0.25, -wheel_radius), wheel_radius, color='black', ec='gray')\n",
    "    wheel2 = Circle((cart_x + cart_width * 0.75, -wheel_radius), wheel_radius, color='black', ec='gray')\n",
    "    ax.add_patch(wheel1)\n",
    "    ax.add_patch(wheel2)\n",
    "    pole_length = 1.0\n",
    "    pole_x_start = cart_pos\n",
    "    pole_y_start = cart_height\n",
    "    pole_x_end = pole_x_start + pole_length * np.sin(pole_angle)\n",
    "    pole_y_end = pole_y_start + pole_length * np.cos(pole_angle)\n",
    "    pole = plt.Line2D([pole_x_start, pole_x_end], [pole_y_start, pole_y_end],\n",
    "                     color='red', lw=6, label=\"Pole\")\n",
    "    ax.add_line(pole)\n",
    "    pole_tip = Circle((pole_x_end, pole_y_end), 0.05, color='yellow')\n",
    "    ax.add_patch(pole_tip)\n",
    "    info_text = (f\"Step: {_ + 1}\\n\"\n",
    "                f\"Cart Position: {cart_pos:.2f}\\n\"\n",
    "                f\"Pole Angle: {np.degrees(pole_angle):.2f}°\\n\"\n",
    "                f\"Episode Reward: {episode_reward:.1f}\")\n",
    "    ax.text(0.05, 0.95, info_text, transform=ax.transAxes, fontsize=12,\n",
    "            verticalalignment='top', bbox=dict(facecolor='white', alpha=0.9, edgecolor='black'))\n",
    "    ax.set_xlim(-2.4, 2.4)\n",
    "    ax.set_ylim(-0.5, 1.5)\n",
    "    ax.set_xlabel(\"Cart Position (m)\", fontsize=12)\n",
    "    ax.set_ylabel(\"Height (m)\", fontsize=12)\n",
    "    ax.set_title(\"CartPole Testing: Trained Model\", fontsize=14)\n",
    "    ax.grid(True, linestyle='--', alpha=0.7)\n",
    "    ax.legend(loc='upper right')\n",
    "    display(fig)\n",
    "    clear_output(wait=True)\n",
    "\n",
    "    if terminated or truncated:\n",
    "        break\n",
    "\n",
    "# Save test video\n",
    "if frames:\n",
    "    imageio.mimsave('cartpole_test.mp4', frames, fps=60)\n",
    "    print(\"Test video saved as 'cartpole_test.mp4'\")\n",
    "\n",
    "# Close the environment and figure\n",
    "env.close()\n",
    "plt.close(fig)"
   ]
  },
  {
   "cell_type": "markdown",
   "metadata": {
    "id": "uZgyL4l-E19w"
   },
   "source": [
    "# Step 8: Saving a Test Video\n",
    "# Here, we save the frames from the test run as a separate MP4 video, so you can see how the trained agent performs."
   ]
  },
  {
   "cell_type": "code",
   "execution_count": 41,
   "metadata": {
    "colab": {
     "base_uri": "https://localhost:8080/",
     "height": 17
    },
    "executionInfo": {
     "elapsed": 13,
     "status": "ok",
     "timestamp": 1752566736272,
     "user": {
      "displayName": "9808_MyronCorreia",
      "userId": "04522062780164785947"
     },
     "user_tz": -330
    },
    "id": "O0SEU3xAE49d",
    "outputId": "a9230221-2755-41f5-df0b-4cec84f4f1e3"
   },
   "outputs": [
    {
     "data": {
      "application/javascript": "\n    async function download(id, filename, size) {\n      if (!google.colab.kernel.accessAllowed) {\n        return;\n      }\n      const div = document.createElement('div');\n      const label = document.createElement('label');\n      label.textContent = `Downloading \"${filename}\": `;\n      div.appendChild(label);\n      const progress = document.createElement('progress');\n      progress.max = size;\n      div.appendChild(progress);\n      document.body.appendChild(div);\n\n      const buffers = [];\n      let downloaded = 0;\n\n      const channel = await google.colab.kernel.comms.open(id);\n      // Send a message to notify the kernel that we're ready.\n      channel.send({})\n\n      for await (const message of channel.messages) {\n        // Send a message to notify the kernel that we're ready.\n        channel.send({})\n        if (message.buffers) {\n          for (const buffer of message.buffers) {\n            buffers.push(buffer);\n            downloaded += buffer.byteLength;\n            progress.value = downloaded;\n          }\n        }\n      }\n      const blob = new Blob(buffers, {type: 'application/binary'});\n      const a = document.createElement('a');\n      a.href = window.URL.createObjectURL(blob);\n      a.download = filename;\n      div.appendChild(a);\n      a.click();\n      div.remove();\n    }\n  ",
      "text/plain": [
       "<IPython.core.display.Javascript object>"
      ]
     },
     "metadata": {},
     "output_type": "display_data"
    },
    {
     "data": {
      "application/javascript": "download(\"download_7626c7b5-8117-4893-ba14-0f5328f5c0ff\", \"ppo_cartpole.zip\", 142406)",
      "text/plain": [
       "<IPython.core.display.Javascript object>"
      ]
     },
     "metadata": {},
     "output_type": "display_data"
    },
    {
     "data": {
      "application/javascript": "\n    async function download(id, filename, size) {\n      if (!google.colab.kernel.accessAllowed) {\n        return;\n      }\n      const div = document.createElement('div');\n      const label = document.createElement('label');\n      label.textContent = `Downloading \"${filename}\": `;\n      div.appendChild(label);\n      const progress = document.createElement('progress');\n      progress.max = size;\n      div.appendChild(progress);\n      document.body.appendChild(div);\n\n      const buffers = [];\n      let downloaded = 0;\n\n      const channel = await google.colab.kernel.comms.open(id);\n      // Send a message to notify the kernel that we're ready.\n      channel.send({})\n\n      for await (const message of channel.messages) {\n        // Send a message to notify the kernel that we're ready.\n        channel.send({})\n        if (message.buffers) {\n          for (const buffer of message.buffers) {\n            buffers.push(buffer);\n            downloaded += buffer.byteLength;\n            progress.value = downloaded;\n          }\n        }\n      }\n      const blob = new Blob(buffers, {type: 'application/binary'});\n      const a = document.createElement('a');\n      a.href = window.URL.createObjectURL(blob);\n      a.download = filename;\n      div.appendChild(a);\n      a.click();\n      div.remove();\n    }\n  ",
      "text/plain": [
       "<IPython.core.display.Javascript object>"
      ]
     },
     "metadata": {},
     "output_type": "display_data"
    },
    {
     "data": {
      "application/javascript": "download(\"download_6da77dc6-2c3f-44cb-8d3b-815843bc7d04\", \"cartpole_training.mp4\", 37801)",
      "text/plain": [
       "<IPython.core.display.Javascript object>"
      ]
     },
     "metadata": {},
     "output_type": "display_data"
    },
    {
     "data": {
      "application/javascript": "\n    async function download(id, filename, size) {\n      if (!google.colab.kernel.accessAllowed) {\n        return;\n      }\n      const div = document.createElement('div');\n      const label = document.createElement('label');\n      label.textContent = `Downloading \"${filename}\": `;\n      div.appendChild(label);\n      const progress = document.createElement('progress');\n      progress.max = size;\n      div.appendChild(progress);\n      document.body.appendChild(div);\n\n      const buffers = [];\n      let downloaded = 0;\n\n      const channel = await google.colab.kernel.comms.open(id);\n      // Send a message to notify the kernel that we're ready.\n      channel.send({})\n\n      for await (const message of channel.messages) {\n        // Send a message to notify the kernel that we're ready.\n        channel.send({})\n        if (message.buffers) {\n          for (const buffer of message.buffers) {\n            buffers.push(buffer);\n            downloaded += buffer.byteLength;\n            progress.value = downloaded;\n          }\n        }\n      }\n      const blob = new Blob(buffers, {type: 'application/binary'});\n      const a = document.createElement('a');\n      a.href = window.URL.createObjectURL(blob);\n      a.download = filename;\n      div.appendChild(a);\n      a.click();\n      div.remove();\n    }\n  ",
      "text/plain": [
       "<IPython.core.display.Javascript object>"
      ]
     },
     "metadata": {},
     "output_type": "display_data"
    },
    {
     "data": {
      "application/javascript": "download(\"download_80f12cb5-ffdb-4889-b399-b45d762af0c1\", \"cartpole_test.mp4\", 26468)",
      "text/plain": [
       "<IPython.core.display.Javascript object>"
      ]
     },
     "metadata": {},
     "output_type": "display_data"
    }
   ],
   "source": [
    "from google.colab import files\n",
    "\n",
    "# Download the model and videos\n",
    "files.download('ppo_cartpole.zip')\n",
    "files.download('cartpole_training.mp4')\n",
    "files.download('cartpole_test.mp4')"
   ]
  },
  {
   "cell_type": "markdown",
   "metadata": {
    "id": "wR0BbYGsE60l"
   },
   "source": [
    "# Step 9: Cleaning Up\n",
    "# Finally, we close the environment to free up resources."
   ]
  },
  {
   "cell_type": "code",
   "execution_count": 42,
   "metadata": {
    "executionInfo": {
     "elapsed": 2,
     "status": "ok",
     "timestamp": 1752566745938,
     "user": {
      "displayName": "9808_MyronCorreia",
      "userId": "04522062780164785947"
     },
     "user_tz": -330
    },
    "id": "naRZWm_qE9DI"
   },
   "outputs": [],
   "source": [
    "env.close()"
   ]
  }
 ],
 "metadata": {
  "accelerator": "GPU",
  "colab": {
   "authorship_tag": "ABX9TyNGeIKCf6N0Zwp/vc2JBVll",
   "gpuType": "T4",
   "provenance": []
  },
  "kernelspec": {
   "display_name": "Python 3",
   "name": "python3"
  },
  "language_info": {
   "name": "python"
  }
 },
 "nbformat": 4,
 "nbformat_minor": 0
}
